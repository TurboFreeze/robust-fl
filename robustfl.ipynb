{
  "nbformat": 4,
  "nbformat_minor": 0,
  "metadata": {
    "kernelspec": {
      "display_name": "Python 3",
      "language": "python",
      "name": "python3"
    },
    "language_info": {
      "codemirror_mode": {
        "name": "ipython",
        "version": 3
      },
      "file_extension": ".py",
      "mimetype": "text/x-python",
      "name": "python",
      "nbconvert_exporter": "python",
      "pygments_lexer": "ipython3",
      "version": "3.6.8"
    },
    "colab": {
      "name": "robustfl.ipynb",
      "provenance": [],
      "collapsed_sections": [],
      "toc_visible": true
    }
  },
  "cells": [
    {
      "cell_type": "code",
      "metadata": {
        "id": "gHHti7ZP6xbH",
        "colab_type": "code",
        "colab": {
          "base_uri": "https://localhost:8080/",
          "height": 111
        },
        "outputId": "e5b74f5c-c099-41ff-afbd-ca61ce90d9a0"
      },
      "source": [
        "import tensorflow as tf\n",
        "from tensorflow import keras\n",
        "import numpy as np\n",
        "import matplotlib.pyplot as plt\n",
        "import seaborn as sns\n",
        "import time "
      ],
      "execution_count": 2,
      "outputs": [
        {
          "output_type": "stream",
          "text": [
            "/usr/local/lib/python3.6/dist-packages/statsmodels/tools/_testing.py:19: FutureWarning: pandas.util.testing is deprecated. Use the functions in the public API at pandas.testing instead.\n",
            "  import pandas.util.testing as tm\n"
          ],
          "name": "stderr"
        }
      ]
    },
    {
      "cell_type": "code",
      "metadata": {
        "id": "76_5UF9W6xcB",
        "colab_type": "code",
        "colab": {
          "base_uri": "https://localhost:8080/",
          "height": 51
        },
        "outputId": "f21a4756-be1f-41d8-93ee-c232f08fab1e"
      },
      "source": [
        "cifar10 = keras.datasets.cifar10\n",
        "(train_images, train_labels), (test_images, test_labels) = cifar10.load_data()"
      ],
      "execution_count": 3,
      "outputs": [
        {
          "output_type": "stream",
          "text": [
            "Downloading data from https://www.cs.toronto.edu/~kriz/cifar-10-python.tar.gz\n",
            "170500096/170498071 [==============================] - 2s 0us/step\n"
          ],
          "name": "stdout"
        }
      ]
    },
    {
      "cell_type": "code",
      "metadata": {
        "id": "wpLKc0Xh6xco",
        "colab_type": "code",
        "colab": {}
      },
      "source": [
        "num_classes = 10\n",
        "\n",
        "# preprocessing\n",
        "train_images = train_images / 255.0\n",
        "test_images = test_images / 255.0\n",
        "\n",
        "# normalize images\n",
        "train_images_norm = (train_images - np.mean(train_images, axis=(0, 1, 2, 3))) / np.std(train_images, axis=(0, 1, 2, 3))\n",
        "test_images_norm = (test_images - np.mean(test_images, axis=(0, 1, 2, 3))) / np.std(test_images, axis=(0, 1, 2, 3))\n",
        "\n",
        "# change labels to categorical\n",
        "train_labels_bin = keras.utils.to_categorical(train_labels, num_classes)\n",
        "test_labels_bin = keras.utils.to_categorical(test_labels, num_classes)"
      ],
      "execution_count": 0,
      "outputs": []
    },
    {
      "cell_type": "code",
      "metadata": {
        "id": "9cFnNuWB6xdP",
        "colab_type": "code",
        "colab": {}
      },
      "source": [
        "def cifar10model():\n",
        "  # define the model; architecture inspired by Keras documentation\n",
        "  model = keras.Sequential([\n",
        "      keras.layers.Conv2D(32, (3, 3), padding='same', input_shape=train_images.shape[1:], activation='relu'),\n",
        "      keras.layers.Conv2D(32, (3, 3), activation='relu'),\n",
        "      keras.layers.MaxPooling2D(pool_size=(2, 2)),\n",
        "      keras.layers.Dropout(0.25),\n",
        "      keras.layers.Conv2D(64, (3, 3), padding='same', activation='relu'),\n",
        "      keras.layers.Conv2D(64, (3, 3), padding='same', activation='relu'),\n",
        "      keras.layers.MaxPooling2D(pool_size=(2, 2)),\n",
        "      keras.layers.Dropout(0.25),\n",
        "      keras.layers.Flatten(),\n",
        "      keras.layers.Dense(512, activation='relu'),\n",
        "      keras.layers.Dropout(0.5),\n",
        "      keras.layers.Dense(num_classes, activation='softmax')\n",
        "  ])\n",
        "  model.compile(optimizer='adam',\n",
        "              loss='categorical_crossentropy',\n",
        "             metrics=['accuracy'])\n",
        "  return model"
      ],
      "execution_count": 0,
      "outputs": []
    },
    {
      "cell_type": "markdown",
      "metadata": {
        "id": "hqnlU95Ivanc",
        "colab_type": "text"
      },
      "source": [
        "### Standard Training"
      ]
    },
    {
      "cell_type": "code",
      "metadata": {
        "id": "6ohngyIc6xdX",
        "colab_type": "code",
        "colab": {}
      },
      "source": [
        "model = cifar10model()"
      ],
      "execution_count": 0,
      "outputs": []
    },
    {
      "cell_type": "code",
      "metadata": {
        "id": "SeA5Kf1fCW-0",
        "colab_type": "code",
        "colab": {
          "base_uri": "https://localhost:8080/",
          "height": 561
        },
        "outputId": "473702af-4ad7-4dc5-ddc7-c70cd7556e1f"
      },
      "source": [
        "model.summary()"
      ],
      "execution_count": 57,
      "outputs": [
        {
          "output_type": "stream",
          "text": [
            "Model: \"sequential_7\"\n",
            "_________________________________________________________________\n",
            "Layer (type)                 Output Shape              Param #   \n",
            "=================================================================\n",
            "conv2d_28 (Conv2D)           (None, 32, 32, 32)        896       \n",
            "_________________________________________________________________\n",
            "conv2d_29 (Conv2D)           (None, 30, 30, 32)        9248      \n",
            "_________________________________________________________________\n",
            "max_pooling2d_14 (MaxPooling (None, 15, 15, 32)        0         \n",
            "_________________________________________________________________\n",
            "dropout_21 (Dropout)         (None, 15, 15, 32)        0         \n",
            "_________________________________________________________________\n",
            "conv2d_30 (Conv2D)           (None, 15, 15, 64)        18496     \n",
            "_________________________________________________________________\n",
            "conv2d_31 (Conv2D)           (None, 15, 15, 64)        36928     \n",
            "_________________________________________________________________\n",
            "max_pooling2d_15 (MaxPooling (None, 7, 7, 64)          0         \n",
            "_________________________________________________________________\n",
            "dropout_22 (Dropout)         (None, 7, 7, 64)          0         \n",
            "_________________________________________________________________\n",
            "flatten_7 (Flatten)          (None, 3136)              0         \n",
            "_________________________________________________________________\n",
            "dense_14 (Dense)             (None, 512)               1606144   \n",
            "_________________________________________________________________\n",
            "dropout_23 (Dropout)         (None, 512)               0         \n",
            "_________________________________________________________________\n",
            "dense_15 (Dense)             (None, 10)                5130      \n",
            "=================================================================\n",
            "Total params: 1,676,842\n",
            "Trainable params: 1,676,842\n",
            "Non-trainable params: 0\n",
            "_________________________________________________________________\n"
          ],
          "name": "stdout"
        }
      ]
    },
    {
      "cell_type": "code",
      "metadata": {
        "id": "6lIHZ8c_6xd3",
        "colab_type": "code",
        "colab": {
          "base_uri": "https://localhost:8080/",
          "height": 187
        },
        "outputId": "b444074d-bef3-416b-b2f4-be811b989065"
      },
      "source": [
        "train_results = model.fit(train_images_norm, train_labels_bin, batch_size=32, epochs=5)"
      ],
      "execution_count": 58,
      "outputs": [
        {
          "output_type": "stream",
          "text": [
            "Epoch 1/5\n",
            "1563/1563 [==============================] - 247s 158ms/step - loss: 1.3831 - accuracy: 0.5011\n",
            "Epoch 2/5\n",
            "1563/1563 [==============================] - 248s 159ms/step - loss: 0.9902 - accuracy: 0.6529\n",
            "Epoch 3/5\n",
            "1563/1563 [==============================] - 247s 158ms/step - loss: 0.8433 - accuracy: 0.7026\n",
            "Epoch 4/5\n",
            "1563/1563 [==============================] - 247s 158ms/step - loss: 0.7723 - accuracy: 0.7292\n",
            "Epoch 5/5\n",
            "1563/1563 [==============================] - 249s 159ms/step - loss: 0.7082 - accuracy: 0.7506\n"
          ],
          "name": "stdout"
        }
      ]
    },
    {
      "cell_type": "code",
      "metadata": {
        "id": "llrIWTseBUG_",
        "colab_type": "code",
        "colab": {
          "base_uri": "https://localhost:8080/",
          "height": 34
        },
        "outputId": "334388d7-c383-45a3-ebd7-76544de67516"
      },
      "source": [
        "results = model.evaluate(test_images_norm, test_labels_bin, batch_size=128)"
      ],
      "execution_count": 45,
      "outputs": [
        {
          "output_type": "stream",
          "text": [
            "79/79 [==============================] - 11s 136ms/step - loss: 0.6828 - accuracy: 0.7648\n"
          ],
          "name": "stdout"
        }
      ]
    },
    {
      "cell_type": "code",
      "metadata": {
        "id": "ZheTtKZdBpjn",
        "colab_type": "code",
        "colab": {
          "base_uri": "https://localhost:8080/",
          "height": 295
        },
        "outputId": "24041ca4-4018-413f-cc00-70fb90011976"
      },
      "source": [
        "sns.lineplot(list(range(len(train_results.history['accuracy']))), train_results.history['accuracy'])\n",
        "plt.title('Standard CIFAR 10 Training Accuracy')\n",
        "plt.xlabel('Epoch')\n",
        "plt.savefig('figs/standard.jpg')\n",
        "plt.show()"
      ],
      "execution_count": 72,
      "outputs": [
        {
          "output_type": "display_data",
          "data": {
            "image/png": "[encoded data removed]",
            "text/plain": [
              "<Figure size 432x288 with 1 Axes>"
            ]
          },
          "metadata": {
            "tags": [],
            "needs_background": "light"
          }
        }
      ]
    },
    {
      "cell_type": "markdown",
      "metadata": {
        "id": "BD9TcbOiKuPm",
        "colab_type": "text"
      },
      "source": [
        "### Setup for Federated Learning"
      ]
    },
    {
      "cell_type": "code",
      "metadata": {
        "id": "kRjHdmyx6xd8",
        "colab_type": "code",
        "colab": {}
      },
      "source": [
        "class Device:\n",
        "  dev_train_images = None\n",
        "  dev_train_labels = None\n",
        "  model = None"
      ],
      "execution_count": 0,
      "outputs": []
    },
    {
      "cell_type": "code",
      "metadata": {
        "id": "l2izyyZIK1Zw",
        "colab_type": "code",
        "colab": {}
      },
      "source": [
        "NUM_ROUNDS = 20\n",
        "DEV_PER_ROUND = 5\n",
        "DEV_PERC = 0.02 # percentage of data per round"
      ],
      "execution_count": 0,
      "outputs": []
    },
    {
      "cell_type": "markdown",
      "metadata": {
        "id": "n5-3J0ftAdaB",
        "colab_type": "text"
      },
      "source": [
        "### Standard Federated Learning\n",
        "Using `FedAvg` under IID non-adversarial setting."
      ]
    },
    {
      "cell_type": "code",
      "metadata": {
        "id": "HYvh-KawKLvO",
        "colab_type": "code",
        "colab": {
          "base_uri": "https://localhost:8080/",
          "height": 1000
        },
        "outputId": "9a68a50f-ae4e-4217-e92b-4208c86190fc"
      },
      "source": [
        "### STANDARD FEDERATED LEARNING\n",
        "rounds = NUM_ROUNDS\n",
        "devices_per_round = DEV_PER_ROUND\n",
        "perc_per_device = DEV_PERC # percentage of data per round\n",
        "total_data = train_images.shape[0]\n",
        "data_per_device = int(perc_per_device * total_data)\n",
        "\n",
        "server_model = cifar10model()\n",
        "\n",
        "test_accs = []\n",
        "\n",
        "# federated learning\n",
        "for r in range(rounds):\n",
        "  # create devices\n",
        "  devices = [Device() for _ in range(devices_per_round)]\n",
        "  allweights = []\n",
        "  for i in range(len(devices)):\n",
        "    print('Round #' + str(r + 1) + ' Device #' + str(i + 1))\n",
        "    # create new model for device loaded from server\n",
        "    devices[i].model = cifar10model()\n",
        "    for layer_index in range(len(devices[i].model.weights)):\n",
        "      devices[i].model.weights[layer_index].assign(server_model.weights[layer_index])\n",
        "\n",
        "    # assign data to device to mimic local data\n",
        "    dev_indices = np.random.choice(list(range(total_data)), data_per_device)\n",
        "    devices[i].train_images = train_images_norm[dev_indices]\n",
        "    devices[i].train_labels = train_labels_bin[dev_indices]\n",
        "\n",
        "    # train local device\n",
        "    devices[i].model.fit(devices[i].train_images, devices[i].train_labels, \n",
        "                           batch_size=32, epochs=1)\n",
        "    \n",
        "    # retrieve weights for FedAvg\n",
        "    allweights.append(devices[i].model.weights)\n",
        "  \n",
        "  # update server model with weights averaging\n",
        "  avgweights = np.mean(allweights, axis=0)\n",
        "  for layer_index in range(len(avgweights)):\n",
        "    server_model.weights[layer_index].assign(avgweights[layer_index])\n",
        "  \n",
        "  # test evaluation on server model\n",
        "  print('Round #' + str(r + 1) + ' Testing')\n",
        "  test_acc = server_model.evaluate(test_images_norm, test_labels_bin, batch_size=32)\n",
        "  print('Round #' + str(r + 1) +' Test Accuracy:', test_acc[1])\n",
        "  test_accs.append(test_acc)"
      ],
      "execution_count": 0,
      "outputs": [
        {
          "output_type": "stream",
          "text": [
            "Round #1 Device #1\n",
            "32/32 [==============================] - 7s 220ms/step - loss: 2.2590 - accuracy: 0.1530\n",
            "Round #1 Device #2\n",
            "32/32 [==============================] - 5s 150ms/step - loss: 2.2404 - accuracy: 0.1580\n",
            "Round #1 Device #3\n",
            "32/32 [==============================] - 5s 150ms/step - loss: 2.2301 - accuracy: 0.1670\n",
            "Round #1 Device #4\n",
            "32/32 [==============================] - 5s 151ms/step - loss: 2.2785 - accuracy: 0.1360\n",
            "Round #1 Device #5\n",
            "32/32 [==============================] - 5s 150ms/step - loss: 2.2966 - accuracy: 0.1170\n",
            "Round #1 Testing\n",
            "313/313 [==============================] - 12s 39ms/step - loss: 2.2515 - accuracy: 0.2217\n",
            "Round #1 Test Accuracy: 0.22169999778270721\n",
            "Round #2 Device #1\n",
            "32/32 [==============================] - 5s 154ms/step - loss: 2.0760 - accuracy: 0.1930\n",
            "Round #2 Device #2\n",
            "32/32 [==============================] - 5s 152ms/step - loss: 2.0903 - accuracy: 0.2250\n",
            "Round #2 Device #3\n",
            "32/32 [==============================] - 5s 152ms/step - loss: 2.0171 - accuracy: 0.2610\n",
            "Round #2 Device #4\n",
            "32/32 [==============================] - 5s 153ms/step - loss: 2.0660 - accuracy: 0.2280\n",
            "Round #2 Device #5\n",
            "32/32 [==============================] - 5s 152ms/step - loss: 2.0803 - accuracy: 0.2170\n",
            "Round #2 Testing\n",
            "313/313 [==============================] - 12s 39ms/step - loss: 1.9467 - accuracy: 0.3149\n",
            "Round #2 Test Accuracy: 0.3149000108242035\n",
            "Round #3 Device #1\n",
            "32/32 [==============================] - 5s 154ms/step - loss: 1.9582 - accuracy: 0.2620\n",
            "Round #3 Device #2\n",
            "32/32 [==============================] - 5s 154ms/step - loss: 1.9321 - accuracy: 0.2900\n",
            "Round #3 Device #3\n",
            "32/32 [==============================] - 5s 154ms/step - loss: 1.9756 - accuracy: 0.2710\n",
            "Round #3 Device #4\n",
            "32/32 [==============================] - 5s 155ms/step - loss: 1.9794 - accuracy: 0.2940\n",
            "Round #3 Device #5\n",
            "32/32 [==============================] - 5s 151ms/step - loss: 1.9721 - accuracy: 0.2660\n",
            "Round #3 Testing\n",
            "313/313 [==============================] - 12s 39ms/step - loss: 1.7887 - accuracy: 0.3689\n",
            "Round #3 Test Accuracy: 0.36890000104904175\n",
            "Round #4 Device #1\n",
            "32/32 [==============================] - 5s 151ms/step - loss: 1.8246 - accuracy: 0.3290\n",
            "Round #4 Device #2\n",
            "32/32 [==============================] - 5s 153ms/step - loss: 1.8062 - accuracy: 0.3250\n",
            "Round #4 Device #3\n",
            "32/32 [==============================] - 5s 152ms/step - loss: 1.8904 - accuracy: 0.3350\n",
            "Round #4 Device #4\n",
            "32/32 [==============================] - 5s 155ms/step - loss: 1.8263 - accuracy: 0.3290\n",
            "Round #4 Device #5\n",
            "32/32 [==============================] - 5s 154ms/step - loss: 1.7795 - accuracy: 0.3480\n",
            "Round #4 Testing\n",
            "313/313 [==============================] - 12s 39ms/step - loss: 1.6870 - accuracy: 0.4057\n",
            "Round #4 Test Accuracy: 0.4056999981403351\n",
            "Round #5 Device #1\n",
            "32/32 [==============================] - 5s 151ms/step - loss: 1.7453 - accuracy: 0.3730\n",
            "Round #5 Device #2\n",
            "32/32 [==============================] - 5s 151ms/step - loss: 1.7965 - accuracy: 0.3390\n",
            "Round #5 Device #3\n",
            "32/32 [==============================] - 5s 151ms/step - loss: 1.7436 - accuracy: 0.3500\n",
            "Round #5 Device #4\n",
            "32/32 [==============================] - 5s 154ms/step - loss: 1.7229 - accuracy: 0.3610\n",
            "Round #5 Device #5\n",
            "32/32 [==============================] - 5s 152ms/step - loss: 1.7438 - accuracy: 0.3770\n",
            "Round #5 Testing\n",
            "313/313 [==============================] - 13s 41ms/step - loss: 1.6198 - accuracy: 0.4188\n",
            "Round #5 Test Accuracy: 0.4187999963760376\n",
            "Round #6 Device #1\n",
            "32/32 [==============================] - 5s 150ms/step - loss: 1.7264 - accuracy: 0.3620\n",
            "Round #6 Device #2\n",
            "32/32 [==============================] - 5s 151ms/step - loss: 1.7312 - accuracy: 0.3430\n",
            "Round #6 Device #3\n",
            "32/32 [==============================] - 5s 153ms/step - loss: 1.7288 - accuracy: 0.3910\n",
            "Round #6 Device #4\n",
            "32/32 [==============================] - 5s 153ms/step - loss: 1.6694 - accuracy: 0.3810\n",
            "Round #6 Device #5\n",
            "32/32 [==============================] - 5s 153ms/step - loss: 1.7326 - accuracy: 0.3610\n",
            "Round #6 Testing\n",
            "313/313 [==============================] - 12s 39ms/step - loss: 1.5500 - accuracy: 0.4476\n",
            "Round #6 Test Accuracy: 0.44760000705718994\n",
            "Round #7 Device #1\n",
            "32/32 [==============================] - 5s 152ms/step - loss: 1.6224 - accuracy: 0.4000\n",
            "Round #7 Device #2\n",
            "32/32 [==============================] - 5s 153ms/step - loss: 1.6489 - accuracy: 0.4010\n",
            "Round #7 Device #3\n",
            "32/32 [==============================] - 5s 150ms/step - loss: 1.6286 - accuracy: 0.3850\n",
            "Round #7 Device #4\n",
            "32/32 [==============================] - 5s 154ms/step - loss: 1.6968 - accuracy: 0.3520\n",
            "Round #7 Device #5\n",
            "32/32 [==============================] - 5s 152ms/step - loss: 1.6853 - accuracy: 0.3910\n",
            "Round #7 Testing\n",
            "313/313 [==============================] - 12s 39ms/step - loss: 1.5236 - accuracy: 0.4437\n",
            "Round #7 Test Accuracy: 0.44369998574256897\n",
            "Round #8 Device #1\n",
            "32/32 [==============================] - 5s 152ms/step - loss: 1.6255 - accuracy: 0.4320\n",
            "Round #8 Device #2\n",
            "32/32 [==============================] - 5s 154ms/step - loss: 1.6194 - accuracy: 0.4020\n",
            "Round #8 Device #3\n",
            "32/32 [==============================] - 5s 153ms/step - loss: 1.6314 - accuracy: 0.4160\n",
            "Round #8 Device #4\n",
            "32/32 [==============================] - 5s 154ms/step - loss: 1.6152 - accuracy: 0.4380\n",
            "Round #8 Device #5\n",
            "32/32 [==============================] - 5s 151ms/step - loss: 1.5957 - accuracy: 0.4000\n",
            "Round #8 Testing\n",
            "313/313 [==============================] - 12s 39ms/step - loss: 1.4749 - accuracy: 0.4623\n",
            "Round #8 Test Accuracy: 0.46230000257492065\n",
            "Round #9 Device #1\n",
            "32/32 [==============================] - 5s 152ms/step - loss: 1.5809 - accuracy: 0.4230\n",
            "Round #9 Device #2\n",
            "32/32 [==============================] - 5s 156ms/step - loss: 1.5636 - accuracy: 0.4420\n",
            "Round #9 Device #3\n",
            "32/32 [==============================] - 5s 155ms/step - loss: 1.6342 - accuracy: 0.3860\n",
            "Round #9 Device #4\n",
            "32/32 [==============================] - 5s 154ms/step - loss: 1.5998 - accuracy: 0.4200\n",
            "Round #9 Device #5\n",
            "32/32 [==============================] - 5s 154ms/step - loss: 1.5600 - accuracy: 0.4350\n",
            "Round #9 Testing\n",
            "313/313 [==============================] - 12s 39ms/step - loss: 1.4448 - accuracy: 0.4798\n",
            "Round #9 Test Accuracy: 0.4797999858856201\n",
            "Round #10 Device #1\n",
            "32/32 [==============================] - 5s 152ms/step - loss: 1.5412 - accuracy: 0.4380\n",
            "Round #10 Device #2\n",
            "32/32 [==============================] - 5s 152ms/step - loss: 1.5996 - accuracy: 0.4240\n",
            "Round #10 Device #3\n",
            "32/32 [==============================] - 5s 152ms/step - loss: 1.5379 - accuracy: 0.4180\n",
            "Round #10 Device #4\n",
            "32/32 [==============================] - 5s 157ms/step - loss: 1.5993 - accuracy: 0.3950\n",
            "Round #10 Device #5\n",
            "32/32 [==============================] - 5s 155ms/step - loss: 1.5896 - accuracy: 0.4260\n",
            "Round #10 Testing\n",
            "313/313 [==============================] - 12s 39ms/step - loss: 1.4086 - accuracy: 0.4947\n",
            "Round #10 Test Accuracy: 0.49470001459121704\n",
            "Round #11 Device #1\n",
            "32/32 [==============================] - 5s 152ms/step - loss: 1.5693 - accuracy: 0.4190\n",
            "Round #11 Device #2\n",
            "32/32 [==============================] - 5s 155ms/step - loss: 1.4752 - accuracy: 0.4670\n",
            "Round #11 Device #3\n",
            "32/32 [==============================] - 5s 152ms/step - loss: 1.4929 - accuracy: 0.4700\n",
            "Round #11 Device #4\n",
            "32/32 [==============================] - 5s 152ms/step - loss: 1.5475 - accuracy: 0.4380\n",
            "Round #11 Device #5\n",
            "32/32 [==============================] - 5s 153ms/step - loss: 1.4505 - accuracy: 0.4840\n",
            "Round #11 Testing\n",
            "278/313 [=========================>....] - ETA: 1s - loss: 1.3788 - accuracy: 0.4915"
          ],
          "name": "stdout"
        }
      ]
    },
    {
      "cell_type": "code",
      "metadata": {
        "id": "odlaALjNAeon",
        "colab_type": "code",
        "colab": {}
      },
      "source": [
        "sns.lineplot(list(range(len(test_accs))), [v[1] for v in test_accs])\n",
        "plt.title('Federated CIFAR10 Test Accuracy')\n",
        "plt.xlabel('Federated Round')\n",
        "plt.savefig('figs/fl.jpg')\n",
        "plt.show()"
      ],
      "execution_count": 0,
      "outputs": []
    },
    {
      "cell_type": "markdown",
      "metadata": {
        "id": "3zUAYtGmRxFr",
        "colab_type": "text"
      },
      "source": [
        "### Federated Learning with Adversaries"
      ]
    },
    {
      "cell_type": "code",
      "metadata": {
        "id": "nIZxVHB48MwW",
        "colab_type": "code",
        "colab": {}
      },
      "source": [
        "### STANDARD FEDERATED LEARNING\n",
        "rounds = NUM_ROUNDS\n",
        "devices_per_round = DEV_PER_ROUND\n",
        "perc_per_device = DEV_PERC # percentage of data per round\n",
        "total_data = train_images.shape[0]\n",
        "data_per_device = int(perc_per_device * total_data)\n",
        "\n",
        "server_model = cifar10model()\n",
        "\n",
        "test_accs_adversary = []\n",
        "\n",
        "# federated learning\n",
        "for r in range(rounds):\n",
        "  # create devices\n",
        "  devices = [Device() for _ in range(devices_per_round)]\n",
        "  allweights = []\n",
        "  for i in range(len(devices)):\n",
        "    print('Round #' + str(r + 1) + ' Device #' + str(i + 1))\n",
        "    # create new model for device loaded from server\n",
        "    devices[i].model = cifar10model()\n",
        "    for layer_index in range(len(devices[i].model.weights)):\n",
        "      devices[i].model.weights[layer_index].assign(server_model.weights[layer_index])\n",
        "\n",
        "    # assign data to device to mimic local data\n",
        "    dev_indices = np.random.choice(list(range(total_data)), data_per_device)\n",
        "    devices[i].train_images = train_images_norm[dev_indices]\n",
        "    devices[i].train_labels = train_labels_bin[dev_indices]\n",
        "\n",
        "    # **selecting adversary**\n",
        "    adversary = False\n",
        "    if i == 0: # set first device to be adversary in every round\n",
        "      adversary = True\n",
        "\n",
        "    # train local device\n",
        "    if not adversary:\n",
        "      devices[i].model.fit(devices[i].train_images, devices[i].train_labels, \n",
        "                           batch_size=32, epochs=1)\n",
        "    else:\n",
        "      # **set adversary weights**\n",
        "      print('Adversary with all weights set to 1')\n",
        "      for layer_index in range(len(devices[i].model.weights)):\n",
        "        layer_shape = devices[i].model.weights[layer_index].shape\n",
        "        devices[i].model.weights[layer_index].assign(np.ones(layer_shape))\n",
        "    \n",
        "    # retrieve weights for FedAvg\n",
        "    allweights.append(devices[i].model.weights)\n",
        "  \n",
        "  # update server model with weights averaging\n",
        "  avgweights = np.mean(allweights, axis=0)\n",
        "  for layer_index in range(len(avgweights)):\n",
        "    server_model.weights[layer_index].assign(avgweights[layer_index])\n",
        "  \n",
        "  # test evaluation on server model\n",
        "  print('Round #' + str(r + 1) + ' Testing')\n",
        "  test_acc = server_model.evaluate(test_images_norm, test_labels_bin, batch_size=32)\n",
        "  print('Round #' + str(r + 1) +' Test Accuracy:', test_acc[1])\n",
        "  test_accs_adversary.append(test_acc)"
      ],
      "execution_count": 0,
      "outputs": []
    },
    {
      "cell_type": "markdown",
      "metadata": {
        "id": "1xOYI4icVdxy",
        "colab_type": "text"
      },
      "source": [
        "### Federated Learning with FedMedian"
      ]
    },
    {
      "cell_type": "code",
      "metadata": {
        "id": "SjnTq13_5PxA",
        "colab_type": "code",
        "colab": {}
      },
      "source": [
        "def robust_agg(list_of_weights):\n",
        "  # use median over all network weights\n",
        "  robust_weights = []\n",
        "  for layer in range(len(list_of_weights[0])):\n",
        "    layer_shape = list_of_weights[0][layer].shape\n",
        "    layer_list = [list_of_weights[i][layer].numpy().flatten() for i in range(len(list_of_weights))]\n",
        "    robust_weights.append(np.median(layer_list, axis=0).reshape(layer_shape))\n",
        "  return robust_weights"
      ],
      "execution_count": 0,
      "outputs": []
    },
    {
      "cell_type": "code",
      "metadata": {
        "id": "VYv3A1AjVjR4",
        "colab_type": "code",
        "colab": {}
      },
      "source": [
        "### FEDERATED LEARNING WITH MEDIAN\n",
        "rounds = NUM_ROUNDS\n",
        "devices_per_round = DEV_PER_ROUND\n",
        "perc_per_device = DEV_PERC # percentage of data per round\n",
        "total_data = train_images.shape[0]\n",
        "data_per_device = int(perc_per_device * total_data)\n",
        "\n",
        "server_model = cifar10model()\n",
        "\n",
        "test_accs_median = []\n",
        "\n",
        "# federated learning\n",
        "for r in range(rounds):\n",
        "  # create devices\n",
        "  devices = [Device() for _ in range(devices_per_round)]\n",
        "  allweights = []\n",
        "  for i in range(len(devices)):\n",
        "    print('Round #' + str(r + 1) + ' Device #' + str(i + 1))\n",
        "    # create new model for device loaded from server\n",
        "    devices[i].model = cifar10model()\n",
        "    for layer_index in range(len(devices[i].model.weights)):\n",
        "      devices[i].model.weights[layer_index].assign(server_model.weights[layer_index])\n",
        "\n",
        "    # assign data to device to mimic local data\n",
        "    dev_indices = np.random.choice(list(range(total_data)), data_per_device)\n",
        "    devices[i].train_images = train_images_norm[dev_indices]\n",
        "    devices[i].train_labels = train_labels_bin[dev_indices]\n",
        "\n",
        "    # **selecting adversary**\n",
        "    adversary = False\n",
        "    if i == 0: # set first device to be adversary in every round\n",
        "      adversary = True\n",
        "\n",
        "    # train local device\n",
        "    if not adversary:\n",
        "      devices[i].model.fit(devices[i].train_images, devices[i].train_labels, \n",
        "                           batch_size=32, epochs=1)\n",
        "    else:\n",
        "      # **set adversary weights**\n",
        "      print('Adversary with all weights set to 1')\n",
        "      for layer_index in range(len(devices[i].model.weights)):\n",
        "        layer_shape = devices[i].model.weights[layer_index].shape\n",
        "        devices[i].model.weights[layer_index].assign(np.ones(layer_shape))\n",
        "    \n",
        "    # retrieve weights for FedAvg\n",
        "    allweights.append(devices[i].model.weights)\n",
        "  \n",
        "  # update server model with weights averaging\n",
        "  avgweights = robust_agg(allweights)\n",
        "  for layer_index in range(len(avgweights)):\n",
        "    server_model.weights[layer_index].assign(avgweights[layer_index])\n",
        "  \n",
        "  # test evaluation on server model\n",
        "  print('Round #' + str(r + 1) + ' Testing')\n",
        "  test_acc = server_model.evaluate(test_images_norm, test_labels_bin, batch_size=32)\n",
        "  print('Round #' + str(r + 1) +' Test Accuracy:', test_acc[1])\n",
        "  test_accs_median.append(test_acc)"
      ],
      "execution_count": 0,
      "outputs": []
    }
  ]
}